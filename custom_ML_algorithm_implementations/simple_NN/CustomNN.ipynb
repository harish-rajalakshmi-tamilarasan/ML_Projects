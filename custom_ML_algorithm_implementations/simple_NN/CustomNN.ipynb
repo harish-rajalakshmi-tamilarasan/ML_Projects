{
 "cells": [
  {
   "cell_type": "code",
   "execution_count": 1,
   "id": "d3208abf-3e9c-427d-95ab-b05b0e9c1003",
   "metadata": {},
   "outputs": [],
   "source": [
    "import numpy as np\n",
    "from sklearn.preprocessing import StandardScaler\n"
   ]
  },
  {
   "cell_type": "code",
   "execution_count": 2,
   "id": "942097ca-2e84-41ec-a0e5-50e1aa9f90a4",
   "metadata": {},
   "outputs": [],
   "source": [
    "def sigmoid(X):\n",
    "    return 1/(1+np.exp(-X))\n",
    "\n",
    "def sigmoid_derivative(X):\n",
    "    return X* (1-X)\n",
    "\n",
    "def relu(X):\n",
    "    return np.maximum(0, X)\n",
    "\n",
    "def relu_derivative(X):\n",
    "    return np.where(X > 0, 1, 0)\n",
    "\n",
    "\n",
    "def crossentropyloss(y, y_preds):\n",
    "        y_preds = np.clip(y_preds, 1e-15, 1 - 1e-15)\n",
    "        loss = -np.mean( y * np.log(y_preds) + (1-y) * np.log(1-y_preds))\n",
    "        return loss\n",
    "\n",
    "class NeuralNetwork():\n",
    "    def __init__(self, input_size: int, hidden_units: int, output_size:int):\n",
    "        # self.weights_ip = np.round(np.random.rand(input_size, hidden_units),2)  \n",
    "        # self.bias_ip = np.zeros((hidden_units)) \n",
    "        # self.weights_op = np.round(np.random.rand(hidden_units, output_size),2)  \n",
    "        # self.bias_op = np.zeros((output_size)) \n",
    "        self.weights_ip = np.random.randn(input_size, hidden_units) * np.sqrt(2 / (input_size))\n",
    "        self.bias_ip = np.zeros((1, hidden_units))  # Hidden bias (1, hidden_units)\n",
    "        self.weights_op = np.random.randn(hidden_units, output_size) * np.sqrt(2 / (hidden_units + output_size))\n",
    "        self.bias_op = np.zeros((1, output_size))\n",
    "        \n",
    "\n",
    "    def __call__(self,X):\n",
    "        return self.forward(X)\n",
    "\n",
    "    def forward(self, X):\n",
    "        self.m = X.shape[0]\n",
    "        self.X = X\n",
    "        self.a1 = (self.X @ self.weights_ip) + self.bias_ip\n",
    "        self.z1 = relu(self.a1)\n",
    "        self.a2 = (self.z1 @ self.weights_op) + self.bias_op\n",
    "        self.z2 = sigmoid(self.a2)\n",
    "        # print(\"weights= \",self.weights_ip,self.weights_op)\n",
    "        # print(\"bias= \",self.bias_ip,self.bias_op)\n",
    "        # print(\"a1= \",self.a1)\n",
    "        # print(\"z1= \",self.z1)\n",
    "        # print(\"a2= \",self.a2)\n",
    "        # print(\"z2= \",self.z2)\n",
    "        return self.z2\n",
    "\n",
    "    def loss(self,y):\n",
    "        return crossentropyloss(y,self.z2)\n",
    "\n",
    "    def backward(self, y, learning_rate):\n",
    "        dz2 = self.z2 - y        \n",
    "        dw2 = (1/self.m)*(self.z1.T @ dz2)\n",
    "        db2 = (1/self.m) * np.sum(dz2, axis=0, keepdims=True)\n",
    "        \n",
    "        da1 = dz2 @ self.weights_op.T\n",
    "        \n",
    "        dz1 = da1* relu_derivative(self.z1)\n",
    "        \n",
    "        dw1 = (1/self.m)*(self.X.T @ dz1)\n",
    "        db1 = (1/self.m) * np.sum(dz1, axis=0, keepdims=True) \n",
    "        \n",
    "        # print(\"dz2= \",dz2)\n",
    "        # print(\"dw2=\",dw2)\n",
    "        # print(\"db2=\",db2)\n",
    "        # print(\"da1= \",da1)\n",
    "        # print(\"dz1= \",dz1)\n",
    "        # print(\"dw1=\",dw1)\n",
    "        # print(\"db1=\",db1)\n",
    "        self.weights_op = self.weights_op - learning_rate*dw2\n",
    "        self.bias_op = self.bias_op - learning_rate*db2\n",
    "        self.weights_ip = self.weights_ip - learning_rate*dw1\n",
    "        self.bias_ip = self.bias_ip - learning_rate*db1\n",
    "\n",
    "\n"
   ]
  },
  {
   "cell_type": "code",
   "execution_count": 5,
   "id": "1168cd98-7303-457c-8a8c-5eba1059c4bd",
   "metadata": {},
   "outputs": [],
   "source": [
    "def custom_train_test_split(X,y,ratio):\n",
    "    length = X.shape[0]\n",
    "    indices = np.arange(length)\n",
    "    np.random.shuffle(indices)\n",
    "    split_size = int(length - length*ratio)\n",
    "    train_indices = indices[:split_size]\n",
    "    test_indices = indices[split_size:]\n",
    "    return X[train_indices], X[test_indices],y[train_indices], y[test_indices]\n",
    "\n"
   ]
  },
  {
   "cell_type": "code",
   "execution_count": 6,
   "id": "c836c2e5-3589-4fdf-9ad3-d19110d3c223",
   "metadata": {},
   "outputs": [],
   "source": [
    "def train_test_data():\n",
    "    np.random.seed(42)\n",
    "    num_samples = 400\n",
    "    heights = np.random.normal(loc=170, scale=10, size=num_samples)  # Mean height ~ 170 cm\n",
    "    weights = np.random.normal(loc=70, scale=15, size=num_samples)    # Mean weight ~ 70 kg\n",
    "    bmi = weights / (heights / 100) ** 2  \n",
    "    y = (bmi < 24.9).astype(int)  \n",
    "    X = np.column_stack((heights, weights))\n",
    "    y = y.reshape(-1,1)\n",
    "    X_train, X_test, y_train, y_test = custom_train_test_split(X, y,0.25)\n",
    "    return X_train, X_test, y_train, y_test \n",
    "\n",
    "\n",
    "X_train, X_test, y_train, y_test = train_test_data()\n",
    "scaler = StandardScaler()\n",
    "X_train = scaler.fit_transform(X_train)\n",
    "X_test = scaler.transform(X_test)"
   ]
  },
  {
   "cell_type": "code",
   "execution_count": 7,
   "id": "56d78871-3cce-482e-b1f1-0b40a4b783c2",
   "metadata": {},
   "outputs": [],
   "source": [
    "\n",
    "model = NeuralNetwork(X_train.shape[1],16,1)\n",
    "def train(X,y):\n",
    "    epochs = 100\n",
    "    for i in range(epochs):\n",
    "        model(X)\n",
    "        loss = model.loss(y)\n",
    "        model.backward(y,0.1)\n",
    "        print(loss)\n",
    "\n",
    "def test(X,y):\n",
    "    y_preds = model(X)\n",
    "    output = np.where(y_preds >= 0.5, 1, 0)\n",
    "    accuracy = np.mean(output==y)\n",
    "    return accuracy"
   ]
  },
  {
   "cell_type": "code",
   "execution_count": 8,
   "id": "baecac89-5230-4bc6-b8f4-536d4e61280e",
   "metadata": {
    "scrolled": true
   },
   "outputs": [
    {
     "name": "stdout",
     "output_type": "stream",
     "text": [
      "1.1182511607083698\n",
      "0.898815792898338\n",
      "0.7312449978750848\n",
      "0.6083728501497409\n",
      "0.5210190424130924\n",
      "0.4590384489947276\n",
      "0.41376543627826207\n",
      "0.37936501002990447\n",
      "0.3522242254701882\n",
      "0.33012796615633877\n",
      "0.3117230007804913\n",
      "0.2960927871441288\n",
      "0.28258530088933675\n",
      "0.27074230471623073\n",
      "0.2602408688011505\n",
      "0.25085028815629234\n",
      "0.24239355602114082\n",
      "0.23472752394085292\n",
      "0.227744165102344\n",
      "0.2213498225795696\n",
      "0.2154590434980067\n",
      "0.21000942367649308\n",
      "0.20494517232172801\n",
      "0.20022939819931068\n",
      "0.19583250705580024\n",
      "0.19170765235947565\n",
      "0.18783753665714772\n",
      "0.1841966259584037\n",
      "0.18076105584575466\n",
      "0.17751148673683573\n",
      "0.17442539220492767\n",
      "0.1714891389535003\n",
      "0.16869064799862543\n",
      "0.1660185996644909\n",
      "0.16345408148621124\n",
      "0.16100027483464288\n",
      "0.1586511463652837\n",
      "0.1564018081412854\n",
      "0.15424787509755633\n",
      "0.15217648367538325\n",
      "0.15018269892239441\n",
      "0.14826176685542694\n",
      "0.14640873986089822\n",
      "0.14462002424902426\n",
      "0.14289465172928\n",
      "0.14122605456047058\n",
      "0.13961157451311704\n",
      "0.13805361580345538\n",
      "0.13655279257085695\n",
      "0.13509484840259658\n",
      "0.13367576401705486\n",
      "0.13229733558091084\n",
      "0.1309560149355709\n",
      "0.12965854350532338\n",
      "0.12839960940790215\n",
      "0.12718136922298184\n",
      "0.1259966032364188\n",
      "0.1248388173749391\n",
      "0.12371374578988825\n",
      "0.12262084538442562\n",
      "0.1215553841483387\n",
      "0.12051747768277664\n",
      "0.11950797417728244\n",
      "0.11852313545424496\n",
      "0.11756084842033165\n",
      "0.1166202529397556\n",
      "0.11569954985006656\n",
      "0.11479847198636094\n",
      "0.11392016401118918\n",
      "0.11306049654122234\n",
      "0.1122192737752184\n",
      "0.11139851811415336\n",
      "0.11059171995427372\n",
      "0.10980538545827895\n",
      "0.10903459206729339\n",
      "0.10828085391142989\n",
      "0.10754364248498699\n",
      "0.10682037615138408\n",
      "0.10611079858916937\n",
      "0.10541475467892529\n",
      "0.10473317676610176\n",
      "0.1040639552139723\n",
      "0.10340671712847051\n",
      "0.10276110693724058\n",
      "0.10212710827683975\n",
      "0.10150535259925553\n",
      "0.1008942074751828\n",
      "0.10029337285937896\n",
      "0.09970264409269884\n",
      "0.09912287913050673\n",
      "0.09855252256961619\n",
      "0.09799135771599359\n",
      "0.09743913916698653\n",
      "0.09689563069851596\n",
      "0.09636087659774543\n",
      "0.09583465911016543\n",
      "0.09531652494199672\n",
      "0.09480633244624238\n",
      "0.09430391754991303\n",
      "0.09380912750814406\n"
     ]
    }
   ],
   "source": [
    "train(X_train,y_train)"
   ]
  },
  {
   "cell_type": "code",
   "execution_count": 9,
   "id": "27e35d2b-8a88-4b25-92b9-4ee34ae7d4fd",
   "metadata": {},
   "outputs": [
    {
     "data": {
      "text/plain": [
       "0.9866666666666667"
      ]
     },
     "execution_count": 9,
     "metadata": {},
     "output_type": "execute_result"
    }
   ],
   "source": [
    "test(X_train,y_train)"
   ]
  },
  {
   "cell_type": "code",
   "execution_count": 10,
   "id": "e6894bdd-4ef9-40c3-ab28-fbc0bc81132e",
   "metadata": {},
   "outputs": [
    {
     "data": {
      "text/plain": [
       "1.0"
      ]
     },
     "execution_count": 10,
     "metadata": {},
     "output_type": "execute_result"
    }
   ],
   "source": [
    "test(X_test,y_test)"
   ]
  },
  {
   "cell_type": "code",
   "execution_count": null,
   "id": "d58f0086-b6aa-4eaa-b0b4-d779bacc0a96",
   "metadata": {},
   "outputs": [],
   "source": [
    "# num_samples = 100\n",
    "# test_heights = np.random.normal(loc=170, scale=10, size=num_samples)  # Mean height ~ 170 cm\n",
    "# test_weights = np.random.normal(loc=70, scale=15, size=num_samples) \n",
    "# bmi = weights / (heights / 100) ** 2  \n",
    "# y_test = (bmi < 24.9).astype(int)  \n",
    "\n",
    "# X_test = np.column_stack((heights, weights))\n",
    "# y = y.reshape(-1,1)\n",
    "\n",
    "\n",
    "# scaler = StandardScaler()\n",
    "# X = scaler.fit_transform(X)"
   ]
  },
  {
   "cell_type": "code",
   "execution_count": null,
   "id": "11fa6e21-b880-4db2-8772-07985e6feb19",
   "metadata": {},
   "outputs": [],
   "source": []
  }
 ],
 "metadata": {
  "kernelspec": {
   "display_name": "Python 3 (ipykernel)",
   "language": "python",
   "name": "python3"
  },
  "language_info": {
   "codemirror_mode": {
    "name": "ipython",
    "version": 3
   },
   "file_extension": ".py",
   "mimetype": "text/x-python",
   "name": "python",
   "nbconvert_exporter": "python",
   "pygments_lexer": "ipython3",
   "version": "3.10.0"
  }
 },
 "nbformat": 4,
 "nbformat_minor": 5
}
